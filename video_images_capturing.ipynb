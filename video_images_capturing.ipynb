{
  "nbformat": 4,
  "nbformat_minor": 0,
  "metadata": {
    "colab": {
      "provenance": []
    },
    "kernelspec": {
      "name": "python3",
      "display_name": "Python 3"
    },
    "language_info": {
      "name": "python"
    }
  },
  "cells": [
    {
      "cell_type": "code",
      "source": [
        "import cv2\n",
        "\n",
        "video_path = \"/content/manvar.mp4\"\n",
        "output_folder = \"/content/output_images_yash_glasses\""
      ],
      "metadata": {
        "id": "5vOYbRcyCwtx"
      },
      "execution_count": null,
      "outputs": []
    },
    {
      "cell_type": "code",
      "source": [
        "# Open the video file\n",
        "video_capture = cv2.VideoCapture(video_path)"
      ],
      "metadata": {
        "id": "HYs4J4S1CzNN"
      },
      "execution_count": null,
      "outputs": []
    },
    {
      "cell_type": "code",
      "source": [
        "# Get the total number of frames in the video\n",
        "total_frames = int(video_capture.get(cv2.CAP_PROP_FRAME_COUNT))"
      ],
      "metadata": {
        "id": "85XxMTWMC02m"
      },
      "execution_count": null,
      "outputs": []
    },
    {
      "cell_type": "code",
      "source": [
        "total_frames"
      ],
      "metadata": {
        "colab": {
          "base_uri": "https://localhost:8080/"
        },
        "id": "9vbmjnlbDZZ4",
        "outputId": "11f089f3-580a-4d25-f78c-9b1e52a840f3"
      },
      "execution_count": null,
      "outputs": [
        {
          "output_type": "execute_result",
          "data": {
            "text/plain": [
              "182"
            ]
          },
          "metadata": {},
          "execution_count": 34
        }
      ]
    },
    {
      "cell_type": "code",
      "source": [
        "import numpy as np"
      ],
      "metadata": {
        "id": "3oNlGRakDmR6"
      },
      "execution_count": null,
      "outputs": []
    },
    {
      "cell_type": "code",
      "source": [
        "# Calculate frame indices to extract\n",
        "frame_indices = [int(frame_index) for frame_index in np.linspace(0, total_frames - 1, num=10)]"
      ],
      "metadata": {
        "id": "uCzP17mtC2Nu"
      },
      "execution_count": null,
      "outputs": []
    },
    {
      "cell_type": "code",
      "source": [
        "frame_indices"
      ],
      "metadata": {
        "colab": {
          "base_uri": "https://localhost:8080/"
        },
        "id": "c0SdiD1PDzPW",
        "outputId": "269e12da-e007-4626-e54d-7437402cb530"
      },
      "execution_count": null,
      "outputs": [
        {
          "output_type": "execute_result",
          "data": {
            "text/plain": [
              "[0, 20, 40, 60, 80, 100, 120, 140, 160, 181]"
            ]
          },
          "metadata": {},
          "execution_count": 37
        }
      ]
    },
    {
      "cell_type": "code",
      "source": [
        "enumerate(frame_indices)"
      ],
      "metadata": {
        "colab": {
          "base_uri": "https://localhost:8080/"
        },
        "id": "ilAwc-CrD1dh",
        "outputId": "d82e10f4-34d1-4ab8-f505-3fb869fafb3d"
      },
      "execution_count": null,
      "outputs": [
        {
          "output_type": "execute_result",
          "data": {
            "text/plain": [
              "<enumerate at 0x7fbc0ed8a000>"
            ]
          },
          "metadata": {},
          "execution_count": 38
        }
      ]
    },
    {
      "cell_type": "code",
      "source": [
        "for idx, frame_index in enumerate(frame_indices):\n",
        "  print(idx,frame_index)"
      ],
      "metadata": {
        "colab": {
          "base_uri": "https://localhost:8080/"
        },
        "id": "v6bxFrNlD-Du",
        "outputId": "179fb814-08c5-4d95-a6b9-f79757e9bb0e"
      },
      "execution_count": null,
      "outputs": [
        {
          "output_type": "stream",
          "name": "stdout",
          "text": [
            "0 0\n",
            "1 20\n",
            "2 40\n",
            "3 60\n",
            "4 80\n",
            "5 100\n",
            "6 120\n",
            "7 140\n",
            "8 160\n",
            "9 181\n"
          ]
        }
      ]
    },
    {
      "cell_type": "code",
      "execution_count": null,
      "metadata": {
        "colab": {
          "base_uri": "https://localhost:8080/"
        },
        "id": "nzI5gUHEy_Fl",
        "outputId": "f003e9b6-a935-4542-e6f5-f589930a5009"
      },
      "outputs": [
        {
          "output_type": "stream",
          "name": "stdout",
          "text": [
            "Saved frame 0 as /content/output_images_yash_glassesframe_1.jpg\n",
            "Saved frame 20 as /content/output_images_yash_glassesframe_2.jpg\n",
            "Saved frame 40 as /content/output_images_yash_glassesframe_3.jpg\n",
            "Saved frame 60 as /content/output_images_yash_glassesframe_4.jpg\n",
            "Saved frame 80 as /content/output_images_yash_glassesframe_5.jpg\n",
            "Saved frame 100 as /content/output_images_yash_glassesframe_6.jpg\n",
            "Saved frame 120 as /content/output_images_yash_glassesframe_7.jpg\n",
            "Saved frame 140 as /content/output_images_yash_glassesframe_8.jpg\n",
            "Saved frame 160 as /content/output_images_yash_glassesframe_9.jpg\n",
            "Saved frame 181 as /content/output_images_yash_glassesframe_10.jpg\n"
          ]
        }
      ],
      "source": [
        "# Iterate over the frame indices and extract frames\n",
        "for idx, frame_index in enumerate(frame_indices):\n",
        "    # Set the frame index to extract\n",
        "    video_capture.set(cv2.CAP_PROP_POS_FRAMES, frame_index)\n",
        "\n",
        "    # Read the frame\n",
        "    ret, frame = video_capture.read()\n",
        "\n",
        "    # Check if the frame was successfully read\n",
        "    if not ret:\n",
        "        print(f\"Error reading frame {frame_index}\")\n",
        "        continue\n",
        "\n",
        "    # Save the frame as an image\n",
        "    output_path = f\"{output_folder}frame_{idx + 1}.jpg\"\n",
        "    cv2.imwrite(output_path, frame)\n",
        "    print(f\"Saved frame {frame_index} as {output_path}\")\n",
        "\n",
        "# Release the video capture object\n",
        "video_capture.release()\n"
      ]
    },
    {
      "cell_type": "code",
      "source": [
        "# import cv2\n",
        "\n",
        "# # Open the webcam\n",
        "# video_capture = cv2.VideoCapture(0)\n",
        "\n",
        "# # Check if the webcam is successfully opened\n",
        "# if not video_capture.isOpened():\n",
        "#     print(\"Failed to open webcam\")\n",
        "#     exit()\n",
        "\n",
        "# # Set the desired video resolution (optional)\n",
        "# # video_capture.set(cv2.CAP_PROP_FRAME_WIDTH, 1280)\n",
        "# # video_capture.set(cv2.CAP_PROP_FRAME_HEIGHT, 720)\n",
        "\n",
        "# # Create a window to display the captured video\n",
        "# cv2.namedWindow(\"Webcam\", cv2.WINDOW_NORMAL)\n",
        "\n",
        "# # Start capturing and displaying video frames\n",
        "# while True:\n",
        "#     # Read a frame from the webcam\n",
        "#     ret, frame = video_capture.read()\n",
        "\n",
        "#     # Check if the frame was successfully read\n",
        "#     if not ret:\n",
        "#         print(\"Failed to read frame from webcam\")\n",
        "#         break\n",
        "\n",
        "#     # Display the frame in the window\n",
        "#     cv2.imshow(\"Webcam\", frame)\n",
        "\n",
        "#     # Exit the loop if 'q' is pressed\n",
        "#     if cv2.waitKey(1) & 0xFF == ord('q'):\n",
        "#         break\n",
        "\n",
        "# # Release the webcam and close the window\n",
        "# video_capture.release()\n",
        "# cv2.destroyAllWindows()\n"
      ],
      "metadata": {
        "id": "2UmokO19Dp0x"
      },
      "execution_count": null,
      "outputs": []
    },
    {
      "cell_type": "code",
      "source": [
        "import cv2\n",
        "\n",
        "video_path = \"/content/vyom.mp4\"  # Replace with the path to your video file\n",
        "\n",
        "# Open the video file\n",
        "video_capture = cv2.VideoCapture(video_path)\n",
        "\n",
        "# Check if the video file is successfully opened\n",
        "if not video_capture.isOpened():\n",
        "    print(\"Failed to open video file\")\n",
        "    exit()\n",
        "\n",
        "# Create a window to display the video\n",
        "cv2.namedWindow(\"Video\", cv2.WINDOW_NORMAL)\n",
        "\n",
        "# Read and display video frames\n",
        "while True:\n",
        "    # Read a frame from the video\n",
        "    ret, frame = video_capture.read()\n",
        "\n",
        "    # Check if the frame was successfully read\n",
        "    if not ret:\n",
        "        print(\"Failed to read frame from video\")\n",
        "        break\n",
        "\n",
        "    # Display the frame in the window\n",
        "    cv2.imshow(\"Video\", frame)\n",
        "\n",
        "    # Exit the loop if 'q' is pressed\n",
        "    if cv2.waitKey(1) & 0xFF == ord('q'):\n",
        "        break\n",
        "\n",
        "# Release the video file and close the window\n",
        "video_capture.release()\n",
        "cv2.destroyAllWindows()\n"
      ],
      "metadata": {
        "id": "ayxA4vUnQ6ah"
      },
      "execution_count": null,
      "outputs": []
    },
    {
      "cell_type": "code",
      "source": [],
      "metadata": {
        "id": "h0UcBJnSRNab"
      },
      "execution_count": null,
      "outputs": []
    }
  ]
}