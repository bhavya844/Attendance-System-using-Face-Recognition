{
  "nbformat": 4,
  "nbformat_minor": 0,
  "metadata": {
    "colab": {
      "provenance": [],
      "gpuType": "T4"
    },
    "kernelspec": {
      "name": "python3",
      "display_name": "Python 3"
    },
    "language_info": {
      "name": "python"
    }
  },
  "cells": [
    {
      "cell_type": "code",
      "execution_count": null,
      "metadata": {
        "colab": {
          "base_uri": "https://localhost:8080/"
        },
        "id": "d9dx8m6ijbai",
        "outputId": "e2e961b9-5aec-4740-f718-d08881bb78c1"
      },
      "outputs": [
        {
          "output_type": "stream",
          "name": "stdout",
          "text": [
            "Looking in indexes: https://pypi.org/simple, https://us-python.pkg.dev/colab-wheels/public/simple/\n",
            "Requirement already satisfied: imgaug in /usr/local/lib/python3.10/dist-packages (0.4.0)\n",
            "Requirement already satisfied: six in /usr/local/lib/python3.10/dist-packages (from imgaug) (1.16.0)\n",
            "Requirement already satisfied: numpy>=1.15 in /usr/local/lib/python3.10/dist-packages (from imgaug) (1.22.4)\n",
            "Requirement already satisfied: scipy in /usr/local/lib/python3.10/dist-packages (from imgaug) (1.10.1)\n",
            "Requirement already satisfied: Pillow in /usr/local/lib/python3.10/dist-packages (from imgaug) (8.4.0)\n",
            "Requirement already satisfied: matplotlib in /usr/local/lib/python3.10/dist-packages (from imgaug) (3.7.1)\n",
            "Requirement already satisfied: scikit-image>=0.14.2 in /usr/local/lib/python3.10/dist-packages (from imgaug) (0.19.3)\n",
            "Requirement already satisfied: opencv-python in /usr/local/lib/python3.10/dist-packages (from imgaug) (4.7.0.72)\n",
            "Requirement already satisfied: imageio in /usr/local/lib/python3.10/dist-packages (from imgaug) (2.25.1)\n",
            "Requirement already satisfied: Shapely in /usr/local/lib/python3.10/dist-packages (from imgaug) (2.0.1)\n",
            "Requirement already satisfied: networkx>=2.2 in /usr/local/lib/python3.10/dist-packages (from scikit-image>=0.14.2->imgaug) (3.1)\n",
            "Requirement already satisfied: tifffile>=2019.7.26 in /usr/local/lib/python3.10/dist-packages (from scikit-image>=0.14.2->imgaug) (2023.4.12)\n",
            "Requirement already satisfied: PyWavelets>=1.1.1 in /usr/local/lib/python3.10/dist-packages (from scikit-image>=0.14.2->imgaug) (1.4.1)\n",
            "Requirement already satisfied: packaging>=20.0 in /usr/local/lib/python3.10/dist-packages (from scikit-image>=0.14.2->imgaug) (23.1)\n",
            "Requirement already satisfied: contourpy>=1.0.1 in /usr/local/lib/python3.10/dist-packages (from matplotlib->imgaug) (1.0.7)\n",
            "Requirement already satisfied: cycler>=0.10 in /usr/local/lib/python3.10/dist-packages (from matplotlib->imgaug) (0.11.0)\n",
            "Requirement already satisfied: fonttools>=4.22.0 in /usr/local/lib/python3.10/dist-packages (from matplotlib->imgaug) (4.39.3)\n",
            "Requirement already satisfied: kiwisolver>=1.0.1 in /usr/local/lib/python3.10/dist-packages (from matplotlib->imgaug) (1.4.4)\n",
            "Requirement already satisfied: pyparsing>=2.3.1 in /usr/local/lib/python3.10/dist-packages (from matplotlib->imgaug) (3.0.9)\n",
            "Requirement already satisfied: python-dateutil>=2.7 in /usr/local/lib/python3.10/dist-packages (from matplotlib->imgaug) (2.8.2)\n"
          ]
        }
      ],
      "source": [
        "pip install imgaug"
      ]
    },
    {
      "cell_type": "code",
      "source": [
        "pip install super_image"
      ],
      "metadata": {
        "colab": {
          "base_uri": "https://localhost:8080/"
        },
        "id": "CTNKhgFvnRsz",
        "outputId": "eef371f2-344a-429b-f11e-0c2d0899f4db"
      },
      "execution_count": null,
      "outputs": [
        {
          "output_type": "stream",
          "name": "stdout",
          "text": [
            "Looking in indexes: https://pypi.org/simple, https://us-python.pkg.dev/colab-wheels/public/simple/\n",
            "Collecting super_image\n",
            "  Downloading super_image-0.1.7-py3-none-any.whl (91 kB)\n",
            "\u001b[2K     \u001b[90m━━━━━━━━━━━━━━━━━━━━━━━━━━━━━━━━━━━━━━━━\u001b[0m \u001b[32m91.0/91.0 kB\u001b[0m \u001b[31m4.0 MB/s\u001b[0m eta \u001b[36m0:00:00\u001b[0m\n",
            "\u001b[?25hRequirement already satisfied: h5py>=3.1.0 in /usr/local/lib/python3.10/dist-packages (from super_image) (3.8.0)\n",
            "Collecting huggingface-hub>=0.0.13 (from super_image)\n",
            "  Downloading huggingface_hub-0.15.1-py3-none-any.whl (236 kB)\n",
            "\u001b[2K     \u001b[90m━━━━━━━━━━━━━━━━━━━━━━━━━━━━━━━━━━━━━━\u001b[0m \u001b[32m236.8/236.8 kB\u001b[0m \u001b[31m12.8 MB/s\u001b[0m eta \u001b[36m0:00:00\u001b[0m\n",
            "\u001b[?25hRequirement already satisfied: opencv-python>=4.5.2.54 in /usr/local/lib/python3.10/dist-packages (from super_image) (4.7.0.72)\n",
            "Requirement already satisfied: torch>=1.9.0 in /usr/local/lib/python3.10/dist-packages (from super_image) (2.0.1+cu118)\n",
            "Requirement already satisfied: torchvision>=0.10.0 in /usr/local/lib/python3.10/dist-packages (from super_image) (0.15.2+cu118)\n",
            "Requirement already satisfied: tqdm>=4.61.2 in /usr/local/lib/python3.10/dist-packages (from super_image) (4.65.0)\n",
            "Requirement already satisfied: numpy>=1.14.5 in /usr/local/lib/python3.10/dist-packages (from h5py>=3.1.0->super_image) (1.22.4)\n",
            "Requirement already satisfied: filelock in /usr/local/lib/python3.10/dist-packages (from huggingface-hub>=0.0.13->super_image) (3.12.0)\n",
            "Requirement already satisfied: fsspec in /usr/local/lib/python3.10/dist-packages (from huggingface-hub>=0.0.13->super_image) (2023.4.0)\n",
            "Requirement already satisfied: requests in /usr/local/lib/python3.10/dist-packages (from huggingface-hub>=0.0.13->super_image) (2.27.1)\n",
            "Requirement already satisfied: pyyaml>=5.1 in /usr/local/lib/python3.10/dist-packages (from huggingface-hub>=0.0.13->super_image) (6.0)\n",
            "Requirement already satisfied: typing-extensions>=3.7.4.3 in /usr/local/lib/python3.10/dist-packages (from huggingface-hub>=0.0.13->super_image) (4.5.0)\n",
            "Requirement already satisfied: packaging>=20.9 in /usr/local/lib/python3.10/dist-packages (from huggingface-hub>=0.0.13->super_image) (23.1)\n",
            "Requirement already satisfied: sympy in /usr/local/lib/python3.10/dist-packages (from torch>=1.9.0->super_image) (1.11.1)\n",
            "Requirement already satisfied: networkx in /usr/local/lib/python3.10/dist-packages (from torch>=1.9.0->super_image) (3.1)\n",
            "Requirement already satisfied: jinja2 in /usr/local/lib/python3.10/dist-packages (from torch>=1.9.0->super_image) (3.1.2)\n",
            "Requirement already satisfied: triton==2.0.0 in /usr/local/lib/python3.10/dist-packages (from torch>=1.9.0->super_image) (2.0.0)\n",
            "Requirement already satisfied: cmake in /usr/local/lib/python3.10/dist-packages (from triton==2.0.0->torch>=1.9.0->super_image) (3.25.2)\n",
            "Requirement already satisfied: lit in /usr/local/lib/python3.10/dist-packages (from triton==2.0.0->torch>=1.9.0->super_image) (16.0.5)\n",
            "Requirement already satisfied: pillow!=8.3.*,>=5.3.0 in /usr/local/lib/python3.10/dist-packages (from torchvision>=0.10.0->super_image) (8.4.0)\n",
            "Requirement already satisfied: MarkupSafe>=2.0 in /usr/local/lib/python3.10/dist-packages (from jinja2->torch>=1.9.0->super_image) (2.1.2)\n",
            "Requirement already satisfied: urllib3<1.27,>=1.21.1 in /usr/local/lib/python3.10/dist-packages (from requests->huggingface-hub>=0.0.13->super_image) (1.26.15)\n",
            "Requirement already satisfied: certifi>=2017.4.17 in /usr/local/lib/python3.10/dist-packages (from requests->huggingface-hub>=0.0.13->super_image) (2022.12.7)\n",
            "Requirement already satisfied: charset-normalizer~=2.0.0 in /usr/local/lib/python3.10/dist-packages (from requests->huggingface-hub>=0.0.13->super_image) (2.0.12)\n",
            "Requirement already satisfied: idna<4,>=2.5 in /usr/local/lib/python3.10/dist-packages (from requests->huggingface-hub>=0.0.13->super_image) (3.4)\n",
            "Requirement already satisfied: mpmath>=0.19 in /usr/local/lib/python3.10/dist-packages (from sympy->torch>=1.9.0->super_image) (1.3.0)\n",
            "Installing collected packages: huggingface-hub, super_image\n",
            "Successfully installed huggingface-hub-0.15.1 super_image-0.1.7\n"
          ]
        }
      ]
    },
    {
      "cell_type": "code",
      "source": [
        "from super_image import  ImageLoader\n",
        "from PIL import Image\n",
        "\n",
        "import requests"
      ],
      "metadata": {
        "id": "I1zPEGvSnN32"
      },
      "execution_count": null,
      "outputs": []
    },
    {
      "cell_type": "code",
      "source": [
        "import os\n",
        "import cv2\n",
        "import numpy as np\n",
        "import imgaug.augmenters as iaa\n",
        "\n",
        "# Load and preprocess the original image\n",
        "# preprocessed_image = cv2.imread(\"/home/ad.rapidops.com/abhishek.pathak/Face_recogniation_Project/face_0.jpg\")\n",
        "\n",
        "\n",
        "\n",
        "# Define the augmentation sequence using imgaug\n",
        "augmentation_seq = iaa.Sequential([\n",
        "    iaa.Affine(rotate=(-25, 25)),\n",
        "    iaa.GaussianBlur(sigma=(0.0, 1.0)),\n",
        "    iaa.AdditiveGaussianNoise(scale=(0, 0.05 * 255)),\n",
        "    iaa.Multiply((0.8, 1.2)),\n",
        "    iaa.ContrastNormalization((0.8, 1.2)),\n",
        "    iaa.Fliplr(0.5),  # Horizontal flipping with 50% probability\n",
        "    #iaa.Flipud(0.5),  # Vertical flipping with 50% probability\n",
        "    iaa.Affine(scale=(0.8, 1.2)),  # Random zoom in or out\n",
        "    iaa.Crop(percent=(0, 0.1)),\n",
        "    iaa.LinearContrast((0.75, 1.5)),\n",
        "    iaa.Affine(\n",
        "        scale={\"x\": (0.8, 1.2), \"y\": (0.8, 1.2)},\n",
        "        translate_percent={\"x\": (-0.2, 0.2), \"y\": (-0.2, 0.2)},\n",
        "        shear=(-8, 8)\n",
        "    ),\n",
        "    # (full sharpening effect).\n",
        "    iaa.Sharpen(alpha=(0, 1.0), lightness=(0.75, 1.5)),\n",
        "\n",
        "    # Same as sharpen, but for an embossing effect.\n",
        "    #iaa.Emboss(alpha=(0, 1.0), strength=(0, 2.0)),\n",
        "\n",
        "    #iaa.OneOf([\n",
        "                    #iaa.Dropout((0.01, 0.1), per_channel=0.5),\n",
        "                   # iaa.CoarseDropout(\n",
        "                      #  (0.03, 0.15), size_percent=(0.02, 0.05),\n",
        "                    #    per_channel=0.2\n",
        "                    #),\n",
        "          #    ]),\n",
        "    # This sets each pixel value v to 255-v.\n",
        "    #iaa.Invert(0.05, per_channel=True), # invert color channels\n",
        "\n",
        "\n",
        "\n",
        "\n",
        "\n",
        "])"
      ],
      "metadata": {
        "colab": {
          "base_uri": "https://localhost:8080/"
        },
        "id": "v41taMG8jjwu",
        "outputId": "03bd44ac-4c36-4302-8ead-19d44df2a340"
      },
      "execution_count": null,
      "outputs": [
        {
          "output_type": "stream",
          "name": "stderr",
          "text": [
            "/usr/local/lib/python3.10/dist-packages/imgaug/imgaug.py:184: DeprecationWarning: Function `ContrastNormalization()` is deprecated. Use `imgaug.contrast.LinearContrast` instead.\n",
            "  warn_deprecated(msg, stacklevel=3)\n"
          ]
        }
      ]
    },
    {
      "cell_type": "code",
      "source": [
        "emp_data_dir =\"/content/drive/MyDrive/Face_Recognition/emp_data_crop\""
      ],
      "metadata": {
        "id": "44Lb8xvJkI-n"
      },
      "execution_count": null,
      "outputs": []
    },
    {
      "cell_type": "code",
      "source": [
        "for employee_folder in os.listdir(emp_data_dir):\n",
        "    print(employee_folder)\n",
        "    employee_folder_path = os.path.join(emp_data_dir, employee_folder)\n",
        "    if not os.path.isdir(employee_folder_path):\n",
        "        continue"
      ],
      "metadata": {
        "id": "x0u7K-u1ltX6"
      },
      "execution_count": null,
      "outputs": []
    },
    {
      "cell_type": "code",
      "source": [
        "\n",
        "# Loop through each employee folder\n",
        "for employee_folder in os.listdir(emp_data_dir):\n",
        "    employee_folder_path = os.path.join(emp_data_dir, employee_folder)\n",
        "    if not os.path.isdir(employee_folder_path):\n",
        "        continue\n",
        "\n",
        "\n",
        "    # Loop through each image in the employee folder\n",
        "    idx = 0\n",
        "    for image_file in os.listdir(employee_folder_path):\n",
        "        image_path = os.path.join(employee_folder_path, image_file)\n",
        "        print(image_path)\n",
        "\n",
        "        # Read the image\n",
        "        try:\n",
        "            image = Image.open(image_path)\n",
        "        except Exception as e:\n",
        "            print(f\"Failed to read image: {image_path}\")\n",
        "            print(e)\n",
        "            continue\n",
        "        image = cv2.imread(image_path)\n",
        "\n",
        "        # Generate augmented images\n",
        "        augmented_images = []\n",
        "        num_augmented_images = 50\n",
        "\n",
        "        # Apply augmentation sequence to the preprocessed image\n",
        "        for _ in range(num_augmented_images):\n",
        "            augmented_image = augmentation_seq.augment_image(image)\n",
        "            augmented_images.append(augmented_image)\n",
        "\n",
        "\n",
        "\n",
        "\n",
        "        # Save the augmented images in the same folder as the employee images folder\n",
        "        for i, augmented_image in enumerate(augmented_images):\n",
        "            # Extract the directory path from the original image file path\n",
        "            image_dir = os.path.dirname(image_path)\n",
        "\n",
        "            # Construct the output path for the augmented image in the same folder\n",
        "            augmented_image_path = os.path.join(image_dir, f\"augmented_image_{i}.png\")\n",
        "\n",
        "            # Save the augmented image\n",
        "            cv2.imwrite(augmented_image_path, augmented_image)"
      ],
      "metadata": {
        "id": "jfGT1B5LkEHV"
      },
      "execution_count": null,
      "outputs": []
    }
  ]
}